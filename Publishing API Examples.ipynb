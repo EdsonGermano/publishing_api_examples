{
 "cells": [
  {
   "cell_type": "markdown",
   "metadata": {},
   "source": [
    "This notebook contains examples of various basic tasks using the [Socrata Publishing API](https://dev.socrata.com/publishers/getting-started.html). Many of the principles we'll discuss apply across many languages, and there are [libraries available for most of the popular ones](https://dev.socrata.com/libraries/). For these examples, we'll be using xmunoz's community-built [sodapy](https://github.com/xmunoz/sodapy) library for Python 3."
   ]
  },
  {
   "cell_type": "markdown",
   "metadata": {},
   "source": [
    "## Authentication"
   ]
  },
  {
   "cell_type": "markdown",
   "metadata": {},
   "source": [
    "Socrata's API relies on a standard username/password combination, with an optional (but highly-recommended) app token. How you choose to store these credentials is up to you; you simply need to provide them, usually just once per session. For this example, we're using [environment variables](https://en.wikipedia.org/wiki/Environment_variable), meaning that the operating system is storing them in memory and we just need to ask for them.\n",
    "\n",
    "Let's assume that we have three such environment variables available to us:\n",
    "\n",
    "`SODA_USERNAME`; `SODA_PASSWORD`; `SODA_APP_TOKEN`\n",
    "\n",
    "Here's how we access them in Python:"
   ]
  },
  {
   "cell_type": "code",
   "execution_count": 1,
   "metadata": {},
   "outputs": [
    {
     "data": {
      "text/plain": [
       "'abraham.epton@socrata.com'"
      ]
     },
     "execution_count": 1,
     "metadata": {},
     "output_type": "execute_result"
    }
   ],
   "source": [
    "import os\n",
    "\n",
    "os.getenv('SODA_USERNAME', 'username goes here')"
   ]
  },
  {
   "cell_type": "markdown",
   "metadata": {},
   "source": [
    "We won't display the others here, but let's assume they also exist. Using `sodapy` (which has [great documentation](https://github.com/xmunoz/sodapy)), let's create a client that lets us perform operations on a specific instance of the Socrata platform (in this case, it's a testing domain we use for education and training):"
   ]
  },
  {
   "cell_type": "code",
   "execution_count": 2,
   "metadata": {},
   "outputs": [
    {
     "name": "stdout",
     "output_type": "stream",
     "text": [
      "<sodapy.Socrata object at 0x10752fdd8>\n"
     ]
    }
   ],
   "source": [
    "from sodapy import Socrata\n",
    "\n",
    "# Extract our credentials from the environment\n",
    "username = os.getenv('SODA_USERNAME', 'username goes here')\n",
    "password = os.getenv('SODA_PASSWORD', 'password goes here')\n",
    "app_token = os.getenv('SODA_APP_TOKEN', 'app token goes here')\n",
    "\n",
    "# Specify which Socrata domain we'd like to talk to\n",
    "domain = 'edu.demo.socrata.com'\n",
    "\n",
    "client = Socrata(domain, app_token, username=username, password=password)\n",
    "\n",
    "# What do we have here?\n",
    "print(client)"
   ]
  },
  {
   "cell_type": "markdown",
   "metadata": {},
   "source": [
    "Great! Now we've got a client object that we can use to upload, download and modify datasets on the platform at [edu.demo.socrata.com](edu.demo.socrata.com)."
   ]
  },
  {
   "cell_type": "markdown",
   "metadata": {},
   "source": [
    "## Creating a dataset"
   ]
  },
  {
   "cell_type": "markdown",
   "metadata": {},
   "source": [
    "## Updating a dataset"
   ]
  },
  {
   "cell_type": "markdown",
   "metadata": {},
   "source": [
    "## Deleting a dataset"
   ]
  },
  {
   "cell_type": "code",
   "execution_count": null,
   "metadata": {
    "collapsed": true
   },
   "outputs": [],
   "source": []
  }
 ],
 "metadata": {
  "kernelspec": {
   "display_name": "Python 3",
   "language": "python",
   "name": "python3"
  },
  "language_info": {
   "codemirror_mode": {
    "name": "ipython",
    "version": 3
   },
   "file_extension": ".py",
   "mimetype": "text/x-python",
   "name": "python",
   "nbconvert_exporter": "python",
   "pygments_lexer": "ipython3",
   "version": "3.6.1"
  }
 },
 "nbformat": 4,
 "nbformat_minor": 2
}
